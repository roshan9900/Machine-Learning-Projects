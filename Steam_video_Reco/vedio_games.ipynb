{
 "cells": [
  {
   "cell_type": "code",
   "execution_count": 1,
   "id": "e9106a6c",
   "metadata": {},
   "outputs": [],
   "source": [
    "import pandas as pd\n",
    "import numpy as np"
   ]
  },
  {
   "cell_type": "code",
   "execution_count": 2,
   "id": "1b1b7aac",
   "metadata": {},
   "outputs": [],
   "source": [
    "df = pd.read_csv(r\"C:\\Users\\Roshan Salunke\\Downloads\\Data Science Course\\ml project\\7\\steam-200k.csv\")"
   ]
  },
  {
   "cell_type": "code",
   "execution_count": 3,
   "id": "82d2c769",
   "metadata": {},
   "outputs": [
    {
     "data": {
      "text/html": [
       "<div>\n",
       "<style scoped>\n",
       "    .dataframe tbody tr th:only-of-type {\n",
       "        vertical-align: middle;\n",
       "    }\n",
       "\n",
       "    .dataframe tbody tr th {\n",
       "        vertical-align: top;\n",
       "    }\n",
       "\n",
       "    .dataframe thead th {\n",
       "        text-align: right;\n",
       "    }\n",
       "</style>\n",
       "<table border=\"1\" class=\"dataframe\">\n",
       "  <thead>\n",
       "    <tr style=\"text-align: right;\">\n",
       "      <th></th>\n",
       "      <th>151603712</th>\n",
       "      <th>The Elder Scrolls V Skyrim</th>\n",
       "      <th>purchase</th>\n",
       "      <th>1.0</th>\n",
       "      <th>0</th>\n",
       "    </tr>\n",
       "  </thead>\n",
       "  <tbody>\n",
       "    <tr>\n",
       "      <th>0</th>\n",
       "      <td>151603712</td>\n",
       "      <td>The Elder Scrolls V Skyrim</td>\n",
       "      <td>play</td>\n",
       "      <td>273.0</td>\n",
       "      <td>0</td>\n",
       "    </tr>\n",
       "    <tr>\n",
       "      <th>1</th>\n",
       "      <td>151603712</td>\n",
       "      <td>Fallout 4</td>\n",
       "      <td>purchase</td>\n",
       "      <td>1.0</td>\n",
       "      <td>0</td>\n",
       "    </tr>\n",
       "    <tr>\n",
       "      <th>2</th>\n",
       "      <td>151603712</td>\n",
       "      <td>Fallout 4</td>\n",
       "      <td>play</td>\n",
       "      <td>87.0</td>\n",
       "      <td>0</td>\n",
       "    </tr>\n",
       "    <tr>\n",
       "      <th>3</th>\n",
       "      <td>151603712</td>\n",
       "      <td>Spore</td>\n",
       "      <td>purchase</td>\n",
       "      <td>1.0</td>\n",
       "      <td>0</td>\n",
       "    </tr>\n",
       "    <tr>\n",
       "      <th>4</th>\n",
       "      <td>151603712</td>\n",
       "      <td>Spore</td>\n",
       "      <td>play</td>\n",
       "      <td>14.9</td>\n",
       "      <td>0</td>\n",
       "    </tr>\n",
       "  </tbody>\n",
       "</table>\n",
       "</div>"
      ],
      "text/plain": [
       "   151603712  The Elder Scrolls V Skyrim  purchase    1.0  0\n",
       "0  151603712  The Elder Scrolls V Skyrim      play  273.0  0\n",
       "1  151603712                   Fallout 4  purchase    1.0  0\n",
       "2  151603712                   Fallout 4      play   87.0  0\n",
       "3  151603712                       Spore  purchase    1.0  0\n",
       "4  151603712                       Spore      play   14.9  0"
      ]
     },
     "execution_count": 3,
     "metadata": {},
     "output_type": "execute_result"
    }
   ],
   "source": [
    "df.head()"
   ]
  },
  {
   "cell_type": "markdown",
   "id": "65ac8ec5",
   "metadata": {},
   "source": [
    "## EDA"
   ]
  },
  {
   "cell_type": "code",
   "execution_count": 4,
   "id": "e1f36f10",
   "metadata": {},
   "outputs": [
    {
     "name": "stdout",
     "output_type": "stream",
     "text": [
      "<class 'pandas.core.frame.DataFrame'>\n",
      "RangeIndex: 199999 entries, 0 to 199998\n",
      "Data columns (total 5 columns):\n",
      " #   Column                      Non-Null Count   Dtype  \n",
      "---  ------                      --------------   -----  \n",
      " 0   151603712                   199999 non-null  int64  \n",
      " 1   The Elder Scrolls V Skyrim  199999 non-null  object \n",
      " 2   purchase                    199999 non-null  object \n",
      " 3   1.0                         199999 non-null  float64\n",
      " 4   0                           199999 non-null  int64  \n",
      "dtypes: float64(1), int64(2), object(2)\n",
      "memory usage: 7.6+ MB\n"
     ]
    }
   ],
   "source": [
    "df.info()"
   ]
  },
  {
   "cell_type": "code",
   "execution_count": 5,
   "id": "7b6652d2",
   "metadata": {},
   "outputs": [
    {
     "data": {
      "text/plain": [
       "151603712                     0\n",
       "The Elder Scrolls V Skyrim    0\n",
       "purchase                      0\n",
       "1.0                           0\n",
       "0                             0\n",
       "dtype: int64"
      ]
     },
     "execution_count": 5,
     "metadata": {},
     "output_type": "execute_result"
    }
   ],
   "source": [
    "df.isnull().sum()"
   ]
  },
  {
   "cell_type": "code",
   "execution_count": 6,
   "id": "6dce25ea",
   "metadata": {},
   "outputs": [
    {
     "data": {
      "text/html": [
       "<div>\n",
       "<style scoped>\n",
       "    .dataframe tbody tr th:only-of-type {\n",
       "        vertical-align: middle;\n",
       "    }\n",
       "\n",
       "    .dataframe tbody tr th {\n",
       "        vertical-align: top;\n",
       "    }\n",
       "\n",
       "    .dataframe thead th {\n",
       "        text-align: right;\n",
       "    }\n",
       "</style>\n",
       "<table border=\"1\" class=\"dataframe\">\n",
       "  <thead>\n",
       "    <tr style=\"text-align: right;\">\n",
       "      <th></th>\n",
       "      <th>151603712</th>\n",
       "      <th>1.0</th>\n",
       "      <th>0</th>\n",
       "    </tr>\n",
       "  </thead>\n",
       "  <tbody>\n",
       "    <tr>\n",
       "      <th>count</th>\n",
       "      <td>1.999990e+05</td>\n",
       "      <td>199999.000000</td>\n",
       "      <td>199999.0</td>\n",
       "    </tr>\n",
       "    <tr>\n",
       "      <th>mean</th>\n",
       "      <td>1.036556e+08</td>\n",
       "      <td>17.874468</td>\n",
       "      <td>0.0</td>\n",
       "    </tr>\n",
       "    <tr>\n",
       "      <th>std</th>\n",
       "      <td>7.208084e+07</td>\n",
       "      <td>138.057292</td>\n",
       "      <td>0.0</td>\n",
       "    </tr>\n",
       "    <tr>\n",
       "      <th>min</th>\n",
       "      <td>5.250000e+03</td>\n",
       "      <td>0.100000</td>\n",
       "      <td>0.0</td>\n",
       "    </tr>\n",
       "    <tr>\n",
       "      <th>25%</th>\n",
       "      <td>4.738420e+07</td>\n",
       "      <td>1.000000</td>\n",
       "      <td>0.0</td>\n",
       "    </tr>\n",
       "    <tr>\n",
       "      <th>50%</th>\n",
       "      <td>8.691201e+07</td>\n",
       "      <td>1.000000</td>\n",
       "      <td>0.0</td>\n",
       "    </tr>\n",
       "    <tr>\n",
       "      <th>75%</th>\n",
       "      <td>1.542309e+08</td>\n",
       "      <td>1.300000</td>\n",
       "      <td>0.0</td>\n",
       "    </tr>\n",
       "    <tr>\n",
       "      <th>max</th>\n",
       "      <td>3.099031e+08</td>\n",
       "      <td>11754.000000</td>\n",
       "      <td>0.0</td>\n",
       "    </tr>\n",
       "  </tbody>\n",
       "</table>\n",
       "</div>"
      ],
      "text/plain": [
       "          151603712            1.0         0\n",
       "count  1.999990e+05  199999.000000  199999.0\n",
       "mean   1.036556e+08      17.874468       0.0\n",
       "std    7.208084e+07     138.057292       0.0\n",
       "min    5.250000e+03       0.100000       0.0\n",
       "25%    4.738420e+07       1.000000       0.0\n",
       "50%    8.691201e+07       1.000000       0.0\n",
       "75%    1.542309e+08       1.300000       0.0\n",
       "max    3.099031e+08   11754.000000       0.0"
      ]
     },
     "execution_count": 6,
     "metadata": {},
     "output_type": "execute_result"
    }
   ],
   "source": [
    "df.describe()"
   ]
  },
  {
   "cell_type": "code",
   "execution_count": 7,
   "id": "b556c169",
   "metadata": {},
   "outputs": [],
   "source": [
    "df.drop('0',axis=1,inplace=True)"
   ]
  },
  {
   "cell_type": "code",
   "execution_count": 8,
   "id": "e6720a5c",
   "metadata": {},
   "outputs": [
    {
     "data": {
      "text/html": [
       "<div>\n",
       "<style scoped>\n",
       "    .dataframe tbody tr th:only-of-type {\n",
       "        vertical-align: middle;\n",
       "    }\n",
       "\n",
       "    .dataframe tbody tr th {\n",
       "        vertical-align: top;\n",
       "    }\n",
       "\n",
       "    .dataframe thead th {\n",
       "        text-align: right;\n",
       "    }\n",
       "</style>\n",
       "<table border=\"1\" class=\"dataframe\">\n",
       "  <thead>\n",
       "    <tr style=\"text-align: right;\">\n",
       "      <th></th>\n",
       "      <th>151603712</th>\n",
       "      <th>The Elder Scrolls V Skyrim</th>\n",
       "      <th>purchase</th>\n",
       "      <th>1.0</th>\n",
       "    </tr>\n",
       "  </thead>\n",
       "  <tbody>\n",
       "    <tr>\n",
       "      <th>0</th>\n",
       "      <td>151603712</td>\n",
       "      <td>The Elder Scrolls V Skyrim</td>\n",
       "      <td>play</td>\n",
       "      <td>273.0</td>\n",
       "    </tr>\n",
       "    <tr>\n",
       "      <th>1</th>\n",
       "      <td>151603712</td>\n",
       "      <td>Fallout 4</td>\n",
       "      <td>purchase</td>\n",
       "      <td>1.0</td>\n",
       "    </tr>\n",
       "    <tr>\n",
       "      <th>2</th>\n",
       "      <td>151603712</td>\n",
       "      <td>Fallout 4</td>\n",
       "      <td>play</td>\n",
       "      <td>87.0</td>\n",
       "    </tr>\n",
       "    <tr>\n",
       "      <th>3</th>\n",
       "      <td>151603712</td>\n",
       "      <td>Spore</td>\n",
       "      <td>purchase</td>\n",
       "      <td>1.0</td>\n",
       "    </tr>\n",
       "    <tr>\n",
       "      <th>4</th>\n",
       "      <td>151603712</td>\n",
       "      <td>Spore</td>\n",
       "      <td>play</td>\n",
       "      <td>14.9</td>\n",
       "    </tr>\n",
       "  </tbody>\n",
       "</table>\n",
       "</div>"
      ],
      "text/plain": [
       "   151603712  The Elder Scrolls V Skyrim  purchase    1.0\n",
       "0  151603712  The Elder Scrolls V Skyrim      play  273.0\n",
       "1  151603712                   Fallout 4  purchase    1.0\n",
       "2  151603712                   Fallout 4      play   87.0\n",
       "3  151603712                       Spore  purchase    1.0\n",
       "4  151603712                       Spore      play   14.9"
      ]
     },
     "execution_count": 8,
     "metadata": {},
     "output_type": "execute_result"
    }
   ],
   "source": [
    "df.head()"
   ]
  },
  {
   "cell_type": "code",
   "execution_count": 9,
   "id": "1666514b",
   "metadata": {},
   "outputs": [
    {
     "data": {
      "text/html": [
       "<div>\n",
       "<style scoped>\n",
       "    .dataframe tbody tr th:only-of-type {\n",
       "        vertical-align: middle;\n",
       "    }\n",
       "\n",
       "    .dataframe tbody tr th {\n",
       "        vertical-align: top;\n",
       "    }\n",
       "\n",
       "    .dataframe thead th {\n",
       "        text-align: right;\n",
       "    }\n",
       "</style>\n",
       "<table border=\"1\" class=\"dataframe\">\n",
       "  <thead>\n",
       "    <tr style=\"text-align: right;\">\n",
       "      <th></th>\n",
       "      <th>user_id</th>\n",
       "      <th>games</th>\n",
       "      <th>status</th>\n",
       "      <th>hours_play</th>\n",
       "    </tr>\n",
       "  </thead>\n",
       "  <tbody>\n",
       "    <tr>\n",
       "      <th>0</th>\n",
       "      <td>151603712</td>\n",
       "      <td>The Elder Scrolls V Skyrim</td>\n",
       "      <td>play</td>\n",
       "      <td>273.0</td>\n",
       "    </tr>\n",
       "    <tr>\n",
       "      <th>1</th>\n",
       "      <td>151603712</td>\n",
       "      <td>Fallout 4</td>\n",
       "      <td>purchase</td>\n",
       "      <td>1.0</td>\n",
       "    </tr>\n",
       "    <tr>\n",
       "      <th>2</th>\n",
       "      <td>151603712</td>\n",
       "      <td>Fallout 4</td>\n",
       "      <td>play</td>\n",
       "      <td>87.0</td>\n",
       "    </tr>\n",
       "    <tr>\n",
       "      <th>3</th>\n",
       "      <td>151603712</td>\n",
       "      <td>Spore</td>\n",
       "      <td>purchase</td>\n",
       "      <td>1.0</td>\n",
       "    </tr>\n",
       "    <tr>\n",
       "      <th>4</th>\n",
       "      <td>151603712</td>\n",
       "      <td>Spore</td>\n",
       "      <td>play</td>\n",
       "      <td>14.9</td>\n",
       "    </tr>\n",
       "  </tbody>\n",
       "</table>\n",
       "</div>"
      ],
      "text/plain": [
       "     user_id                       games    status  hours_play\n",
       "0  151603712  The Elder Scrolls V Skyrim      play       273.0\n",
       "1  151603712                   Fallout 4  purchase         1.0\n",
       "2  151603712                   Fallout 4      play        87.0\n",
       "3  151603712                       Spore  purchase         1.0\n",
       "4  151603712                       Spore      play        14.9"
      ]
     },
     "execution_count": 9,
     "metadata": {},
     "output_type": "execute_result"
    }
   ],
   "source": [
    "df = df.rename(columns={'151603712': 'user_id', 'The Elder Scrolls V Skyrim':'games','purchase':'status','1.0': 'hours_play'})\n",
    "df.head()"
   ]
  },
  {
   "cell_type": "code",
   "execution_count": 10,
   "id": "c1f90a1e",
   "metadata": {},
   "outputs": [
    {
     "data": {
      "text/html": [
       "<div>\n",
       "<style scoped>\n",
       "    .dataframe tbody tr th:only-of-type {\n",
       "        vertical-align: middle;\n",
       "    }\n",
       "\n",
       "    .dataframe tbody tr th {\n",
       "        vertical-align: top;\n",
       "    }\n",
       "\n",
       "    .dataframe thead th {\n",
       "        text-align: right;\n",
       "    }\n",
       "</style>\n",
       "<table border=\"1\" class=\"dataframe\">\n",
       "  <thead>\n",
       "    <tr style=\"text-align: right;\">\n",
       "      <th></th>\n",
       "      <th>user_id</th>\n",
       "      <th>games</th>\n",
       "      <th>status</th>\n",
       "      <th>hours_play</th>\n",
       "    </tr>\n",
       "  </thead>\n",
       "  <tbody>\n",
       "    <tr>\n",
       "      <th>0</th>\n",
       "      <td>151603712</td>\n",
       "      <td>The Elder Scrolls V Skyrim</td>\n",
       "      <td>play</td>\n",
       "      <td>273.0</td>\n",
       "    </tr>\n",
       "    <tr>\n",
       "      <th>2</th>\n",
       "      <td>151603712</td>\n",
       "      <td>Fallout 4</td>\n",
       "      <td>play</td>\n",
       "      <td>87.0</td>\n",
       "    </tr>\n",
       "    <tr>\n",
       "      <th>4</th>\n",
       "      <td>151603712</td>\n",
       "      <td>Spore</td>\n",
       "      <td>play</td>\n",
       "      <td>14.9</td>\n",
       "    </tr>\n",
       "    <tr>\n",
       "      <th>6</th>\n",
       "      <td>151603712</td>\n",
       "      <td>Fallout New Vegas</td>\n",
       "      <td>play</td>\n",
       "      <td>12.1</td>\n",
       "    </tr>\n",
       "    <tr>\n",
       "      <th>8</th>\n",
       "      <td>151603712</td>\n",
       "      <td>Left 4 Dead 2</td>\n",
       "      <td>play</td>\n",
       "      <td>8.9</td>\n",
       "    </tr>\n",
       "  </tbody>\n",
       "</table>\n",
       "</div>"
      ],
      "text/plain": [
       "     user_id                       games status  hours_play\n",
       "0  151603712  The Elder Scrolls V Skyrim   play       273.0\n",
       "2  151603712                   Fallout 4   play        87.0\n",
       "4  151603712                       Spore   play        14.9\n",
       "6  151603712           Fallout New Vegas   play        12.1\n",
       "8  151603712               Left 4 Dead 2   play         8.9"
      ]
     },
     "execution_count": 10,
     "metadata": {},
     "output_type": "execute_result"
    }
   ],
   "source": [
    "df = df.drop_duplicates(['user_id', 'games'],keep='last')\n",
    "df.head()"
   ]
  },
  {
   "cell_type": "code",
   "execution_count": 11,
   "id": "ccd01c16",
   "metadata": {},
   "outputs": [
    {
     "data": {
      "text/plain": [
       "(128804, 4)"
      ]
     },
     "execution_count": 11,
     "metadata": {},
     "output_type": "execute_result"
    }
   ],
   "source": [
    "df.shape"
   ]
  },
  {
   "cell_type": "code",
   "execution_count": 12,
   "id": "035f6b6c",
   "metadata": {},
   "outputs": [
    {
     "data": {
      "text/plain": [
       "Index(['user_id', 'games', 'status', 'hours_play'], dtype='object')"
      ]
     },
     "execution_count": 12,
     "metadata": {},
     "output_type": "execute_result"
    }
   ],
   "source": [
    "df.columns"
   ]
  },
  {
   "cell_type": "code",
   "execution_count": 13,
   "id": "3c3260b7",
   "metadata": {},
   "outputs": [
    {
     "data": {
      "text/plain": [
       "Dota 2                              4841\n",
       "Team Fortress 2                     2323\n",
       "Unturned                            1563\n",
       "Counter-Strike Global Offensive     1412\n",
       "Half-Life 2 Lost Coast               981\n",
       "                                    ... \n",
       "iBomber Attack                         1\n",
       "The Dreamatorium of Dr. Magnus 2       1\n",
       "Verde Station                          1\n",
       "TRIP Steam Edition                     1\n",
       "Executive Assault                      1\n",
       "Name: games, Length: 5155, dtype: int64"
      ]
     },
     "execution_count": 13,
     "metadata": {},
     "output_type": "execute_result"
    }
   ],
   "source": [
    "df['games'].value_counts()"
   ]
  },
  {
   "cell_type": "code",
   "execution_count": 14,
   "id": "9bf22029",
   "metadata": {},
   "outputs": [
    {
     "data": {
      "text/plain": [
       "play        70205\n",
       "purchase    58599\n",
       "Name: status, dtype: int64"
      ]
     },
     "execution_count": 14,
     "metadata": {},
     "output_type": "execute_result"
    }
   ],
   "source": [
    "df['status'].value_counts()"
   ]
  },
  {
   "cell_type": "markdown",
   "id": "e55f5f53",
   "metadata": {},
   "source": [
    "## Visualization"
   ]
  },
  {
   "cell_type": "code",
   "execution_count": 15,
   "id": "eb356432",
   "metadata": {},
   "outputs": [
    {
     "data": {
      "text/plain": [
       "array([[<AxesSubplot:title={'center':'user_id'}>,\n",
       "        <AxesSubplot:title={'center':'hours_play'}>]], dtype=object)"
      ]
     },
     "execution_count": 15,
     "metadata": {},
     "output_type": "execute_result"
    },
    {
     "data": {
      "image/png": "[encoded data removed]",
      "text/plain": [
       "<Figure size 1600x800 with 2 Axes>"
      ]
     },
     "metadata": {},
     "output_type": "display_data"
    }
   ],
   "source": [
    "df.hist(figsize=(16,8))"
   ]
  },
  {
   "cell_type": "code",
   "execution_count": 16,
   "id": "3fc3aa99",
   "metadata": {},
   "outputs": [
    {
     "name": "stderr",
     "output_type": "stream",
     "text": [
      "C:\\Users\\Roshan Salunke\\anaconda3\\lib\\site-packages\\seaborn\\_decorators.py:36: FutureWarning: Pass the following variable as a keyword arg: x. From version 0.12, the only valid positional argument will be `data`, and passing other arguments without an explicit keyword will result in an error or misinterpretation.\n",
      "  warnings.warn(\n"
     ]
    },
    {
     "data": {
      "text/plain": [
       "<AxesSubplot:xlabel='status', ylabel='count'>"
      ]
     },
     "execution_count": 16,
     "metadata": {},
     "output_type": "execute_result"
    },
    {
     "data": {
      "image/png": "[encoded data removed]",
      "text/plain": [
       "<Figure size 640x480 with 1 Axes>"
      ]
     },
     "metadata": {},
     "output_type": "display_data"
    }
   ],
   "source": [
    "import matplotlib.pyplot as plt\n",
    "import seaborn as sns\n",
    "sns.countplot(df['status'])"
   ]
  },
  {
   "cell_type": "code",
   "execution_count": 17,
   "id": "c41642c6",
   "metadata": {},
   "outputs": [
    {
     "data": {
      "text/plain": [
       "[<matplotlib.lines.Line2D at 0x186442bac10>]"
      ]
     },
     "execution_count": 17,
     "metadata": {},
     "output_type": "execute_result"
    },
    {
     "data": {
      "image/png": "[encoded data removed]",
      "text/plain": [
       "<Figure size 640x480 with 1 Axes>"
      ]
     },
     "metadata": {},
     "output_type": "display_data"
    }
   ],
   "source": [
    "plt.plot(df['hours_play'])"
   ]
  },
  {
   "cell_type": "code",
   "execution_count": 18,
   "id": "f0c37d24",
   "metadata": {},
   "outputs": [
    {
     "data": {
      "text/plain": [
       "<AxesSubplot:>"
      ]
     },
     "execution_count": 18,
     "metadata": {},
     "output_type": "execute_result"
    },
    {
     "data": {
      "image/png": "[encoded data removed]",
      "text/plain": [
       "<Figure size 1200x400 with 1 Axes>"
      ]
     },
     "metadata": {},
     "output_type": "display_data"
    }
   ],
   "source": [
    "df['games'].value_counts().head(30).plot(kind='bar',figsize=(12,4))"
   ]
  },
  {
   "cell_type": "code",
   "execution_count": 19,
   "id": "206b24b7",
   "metadata": {},
   "outputs": [
    {
     "data": {
      "text/plain": [
       "<AxesSubplot:xlabel='status', ylabel='hours_play'>"
      ]
     },
     "execution_count": 19,
     "metadata": {},
     "output_type": "execute_result"
    },
    {
     "data": {
      "image/png": "[encoded data removed]",
      "text/plain": [
       "<Figure size 640x480 with 1 Axes>"
      ]
     },
     "metadata": {},
     "output_type": "display_data"
    }
   ],
   "source": [
    "sns.boxplot(x='status',y='hours_play',data=df, palette='rainbow')"
   ]
  },
  {
   "cell_type": "code",
   "execution_count": 20,
   "id": "9b69283b",
   "metadata": {},
   "outputs": [],
   "source": [
    "df = df[(df['hours_play']>=2) & (df['status'] == 'play')]\n",
    "\n",
    "df_filtered = df[df.groupby('games').user_id.transform(len)>=20]"
   ]
  },
  {
   "cell_type": "code",
   "execution_count": 21,
   "id": "0dc26bc9",
   "metadata": {},
   "outputs": [
    {
     "data": {
      "text/html": [
       "<div>\n",
       "<style scoped>\n",
       "    .dataframe tbody tr th:only-of-type {\n",
       "        vertical-align: middle;\n",
       "    }\n",
       "\n",
       "    .dataframe tbody tr th {\n",
       "        vertical-align: top;\n",
       "    }\n",
       "\n",
       "    .dataframe thead th {\n",
       "        text-align: right;\n",
       "    }\n",
       "</style>\n",
       "<table border=\"1\" class=\"dataframe\">\n",
       "  <thead>\n",
       "    <tr style=\"text-align: right;\">\n",
       "      <th></th>\n",
       "      <th>user_id</th>\n",
       "      <th>games</th>\n",
       "      <th>status</th>\n",
       "      <th>hours_play</th>\n",
       "    </tr>\n",
       "  </thead>\n",
       "  <tbody>\n",
       "    <tr>\n",
       "      <th>0</th>\n",
       "      <td>151603712</td>\n",
       "      <td>The Elder Scrolls V Skyrim</td>\n",
       "      <td>play</td>\n",
       "      <td>273.0</td>\n",
       "    </tr>\n",
       "    <tr>\n",
       "      <th>2</th>\n",
       "      <td>151603712</td>\n",
       "      <td>Fallout 4</td>\n",
       "      <td>play</td>\n",
       "      <td>87.0</td>\n",
       "    </tr>\n",
       "    <tr>\n",
       "      <th>4</th>\n",
       "      <td>151603712</td>\n",
       "      <td>Spore</td>\n",
       "      <td>play</td>\n",
       "      <td>14.9</td>\n",
       "    </tr>\n",
       "    <tr>\n",
       "      <th>6</th>\n",
       "      <td>151603712</td>\n",
       "      <td>Fallout New Vegas</td>\n",
       "      <td>play</td>\n",
       "      <td>12.1</td>\n",
       "    </tr>\n",
       "    <tr>\n",
       "      <th>8</th>\n",
       "      <td>151603712</td>\n",
       "      <td>Left 4 Dead 2</td>\n",
       "      <td>play</td>\n",
       "      <td>8.9</td>\n",
       "    </tr>\n",
       "    <tr>\n",
       "      <th>12</th>\n",
       "      <td>151603712</td>\n",
       "      <td>Path of Exile</td>\n",
       "      <td>play</td>\n",
       "      <td>8.1</td>\n",
       "    </tr>\n",
       "    <tr>\n",
       "      <th>16</th>\n",
       "      <td>151603712</td>\n",
       "      <td>Left 4 Dead</td>\n",
       "      <td>play</td>\n",
       "      <td>3.3</td>\n",
       "    </tr>\n",
       "    <tr>\n",
       "      <th>18</th>\n",
       "      <td>151603712</td>\n",
       "      <td>Team Fortress 2</td>\n",
       "      <td>play</td>\n",
       "      <td>2.8</td>\n",
       "    </tr>\n",
       "    <tr>\n",
       "      <th>20</th>\n",
       "      <td>151603712</td>\n",
       "      <td>Tomb Raider</td>\n",
       "      <td>play</td>\n",
       "      <td>2.5</td>\n",
       "    </tr>\n",
       "    <tr>\n",
       "      <th>22</th>\n",
       "      <td>151603712</td>\n",
       "      <td>The Banner Saga</td>\n",
       "      <td>play</td>\n",
       "      <td>2.0</td>\n",
       "    </tr>\n",
       "    <tr>\n",
       "      <th>66</th>\n",
       "      <td>187131847</td>\n",
       "      <td>Dota 2</td>\n",
       "      <td>play</td>\n",
       "      <td>2.3</td>\n",
       "    </tr>\n",
       "    <tr>\n",
       "      <th>68</th>\n",
       "      <td>59945701</td>\n",
       "      <td>Ultra Street Fighter IV</td>\n",
       "      <td>play</td>\n",
       "      <td>238.0</td>\n",
       "    </tr>\n",
       "    <tr>\n",
       "      <th>72</th>\n",
       "      <td>59945701</td>\n",
       "      <td>The Elder Scrolls V Skyrim</td>\n",
       "      <td>play</td>\n",
       "      <td>58.0</td>\n",
       "    </tr>\n",
       "    <tr>\n",
       "      <th>74</th>\n",
       "      <td>59945701</td>\n",
       "      <td>Sid Meier's Civilization V</td>\n",
       "      <td>play</td>\n",
       "      <td>22.0</td>\n",
       "    </tr>\n",
       "    <tr>\n",
       "      <th>76</th>\n",
       "      <td>59945701</td>\n",
       "      <td>L.A. Noire</td>\n",
       "      <td>play</td>\n",
       "      <td>13.8</td>\n",
       "    </tr>\n",
       "    <tr>\n",
       "      <th>80</th>\n",
       "      <td>59945701</td>\n",
       "      <td>7 Days to Die</td>\n",
       "      <td>play</td>\n",
       "      <td>7.8</td>\n",
       "    </tr>\n",
       "    <tr>\n",
       "      <th>84</th>\n",
       "      <td>59945701</td>\n",
       "      <td>FINAL FANTASY VII</td>\n",
       "      <td>play</td>\n",
       "      <td>5.2</td>\n",
       "    </tr>\n",
       "    <tr>\n",
       "      <th>86</th>\n",
       "      <td>59945701</td>\n",
       "      <td>Orcs Must Die! 2</td>\n",
       "      <td>play</td>\n",
       "      <td>4.8</td>\n",
       "    </tr>\n",
       "    <tr>\n",
       "      <th>88</th>\n",
       "      <td>59945701</td>\n",
       "      <td>Killing Floor</td>\n",
       "      <td>play</td>\n",
       "      <td>3.4</td>\n",
       "    </tr>\n",
       "    <tr>\n",
       "      <th>90</th>\n",
       "      <td>59945701</td>\n",
       "      <td>Company of Heroes</td>\n",
       "      <td>play</td>\n",
       "      <td>3.2</td>\n",
       "    </tr>\n",
       "  </tbody>\n",
       "</table>\n",
       "</div>"
      ],
      "text/plain": [
       "      user_id                       games status  hours_play\n",
       "0   151603712  The Elder Scrolls V Skyrim   play       273.0\n",
       "2   151603712                   Fallout 4   play        87.0\n",
       "4   151603712                       Spore   play        14.9\n",
       "6   151603712           Fallout New Vegas   play        12.1\n",
       "8   151603712               Left 4 Dead 2   play         8.9\n",
       "12  151603712               Path of Exile   play         8.1\n",
       "16  151603712                 Left 4 Dead   play         3.3\n",
       "18  151603712             Team Fortress 2   play         2.8\n",
       "20  151603712                 Tomb Raider   play         2.5\n",
       "22  151603712             The Banner Saga   play         2.0\n",
       "66  187131847                      Dota 2   play         2.3\n",
       "68   59945701     Ultra Street Fighter IV   play       238.0\n",
       "72   59945701  The Elder Scrolls V Skyrim   play        58.0\n",
       "74   59945701  Sid Meier's Civilization V   play        22.0\n",
       "76   59945701                  L.A. Noire   play        13.8\n",
       "80   59945701               7 Days to Die   play         7.8\n",
       "84   59945701           FINAL FANTASY VII   play         5.2\n",
       "86   59945701            Orcs Must Die! 2   play         4.8\n",
       "88   59945701               Killing Floor   play         3.4\n",
       "90   59945701           Company of Heroes   play         3.2"
      ]
     },
     "execution_count": 21,
     "metadata": {},
     "output_type": "execute_result"
    }
   ],
   "source": [
    "df_filtered['games'].nunique()\n",
    "df_filtered.head(20)"
   ]
  },
  {
   "cell_type": "code",
   "execution_count": 22,
   "id": "2c8aebbd",
   "metadata": {},
   "outputs": [
    {
     "name": "stderr",
     "output_type": "stream",
     "text": [
      "C:\\Users\\Roshan Salunke\\AppData\\Local\\Temp\\ipykernel_18908\\3474590363.py:1: SettingWithCopyWarning: \n",
      "A value is trying to be set on a copy of a slice from a DataFrame.\n",
      "Try using .loc[row_indexer,col_indexer] = value instead\n",
      "\n",
      "See the caveats in the documentation: https://pandas.pydata.org/pandas-docs/stable/user_guide/indexing.html#returning-a-view-versus-a-copy\n",
      "  df_filtered['user_id'] = df_filtered['user_id'].astype(str)\n"
     ]
    }
   ],
   "source": [
    "df_filtered['user_id'] = df_filtered['user_id'].astype(str)\n",
    "average = df_filtered.groupby(['games'], as_index=False).hours_play.mean()"
   ]
  },
  {
   "cell_type": "code",
   "execution_count": 23,
   "id": "71832eb7",
   "metadata": {},
   "outputs": [],
   "source": [
    "average['avg_hoursplay'] = average['hours_play']\n",
    "average.drop('hours_play',axis=1, inplace=True)"
   ]
  },
  {
   "cell_type": "code",
   "execution_count": 24,
   "id": "079424b7",
   "metadata": {},
   "outputs": [],
   "source": [
    "final_rating = pd.merge(df_filtered, average[['games','avg_hoursplay']],on='games')"
   ]
  },
  {
   "cell_type": "code",
   "execution_count": 25,
   "id": "de9c0205",
   "metadata": {},
   "outputs": [
    {
     "data": {
      "text/html": [
       "<div>\n",
       "<style scoped>\n",
       "    .dataframe tbody tr th:only-of-type {\n",
       "        vertical-align: middle;\n",
       "    }\n",
       "\n",
       "    .dataframe tbody tr th {\n",
       "        vertical-align: top;\n",
       "    }\n",
       "\n",
       "    .dataframe thead th {\n",
       "        text-align: right;\n",
       "    }\n",
       "</style>\n",
       "<table border=\"1\" class=\"dataframe\">\n",
       "  <thead>\n",
       "    <tr style=\"text-align: right;\">\n",
       "      <th></th>\n",
       "      <th>user_id</th>\n",
       "      <th>games</th>\n",
       "      <th>status</th>\n",
       "      <th>hours_play</th>\n",
       "      <th>avg_hoursplay</th>\n",
       "      <th>rating</th>\n",
       "    </tr>\n",
       "  </thead>\n",
       "  <tbody>\n",
       "    <tr>\n",
       "      <th>0</th>\n",
       "      <td>151603712</td>\n",
       "      <td>The Elder Scrolls V Skyrim</td>\n",
       "      <td>play</td>\n",
       "      <td>273.0</td>\n",
       "      <td>115.351792</td>\n",
       "      <td>5</td>\n",
       "    </tr>\n",
       "    <tr>\n",
       "      <th>1</th>\n",
       "      <td>59945701</td>\n",
       "      <td>The Elder Scrolls V Skyrim</td>\n",
       "      <td>play</td>\n",
       "      <td>58.0</td>\n",
       "      <td>115.351792</td>\n",
       "      <td>3</td>\n",
       "    </tr>\n",
       "    <tr>\n",
       "      <th>2</th>\n",
       "      <td>92107940</td>\n",
       "      <td>The Elder Scrolls V Skyrim</td>\n",
       "      <td>play</td>\n",
       "      <td>110.0</td>\n",
       "      <td>115.351792</td>\n",
       "      <td>5</td>\n",
       "    </tr>\n",
       "    <tr>\n",
       "      <th>3</th>\n",
       "      <td>250006052</td>\n",
       "      <td>The Elder Scrolls V Skyrim</td>\n",
       "      <td>play</td>\n",
       "      <td>465.0</td>\n",
       "      <td>115.351792</td>\n",
       "      <td>5</td>\n",
       "    </tr>\n",
       "    <tr>\n",
       "      <th>4</th>\n",
       "      <td>11373749</td>\n",
       "      <td>The Elder Scrolls V Skyrim</td>\n",
       "      <td>play</td>\n",
       "      <td>220.0</td>\n",
       "      <td>115.351792</td>\n",
       "      <td>5</td>\n",
       "    </tr>\n",
       "    <tr>\n",
       "      <th>...</th>\n",
       "      <td>...</td>\n",
       "      <td>...</td>\n",
       "      <td>...</td>\n",
       "      <td>...</td>\n",
       "      <td>...</td>\n",
       "      <td>...</td>\n",
       "    </tr>\n",
       "    <tr>\n",
       "      <th>36415</th>\n",
       "      <td>51822361</td>\n",
       "      <td>Warhammer 40,000 Dawn of War  Soulstorm</td>\n",
       "      <td>play</td>\n",
       "      <td>23.0</td>\n",
       "      <td>14.109091</td>\n",
       "      <td>5</td>\n",
       "    </tr>\n",
       "    <tr>\n",
       "      <th>36416</th>\n",
       "      <td>38317154</td>\n",
       "      <td>Warhammer 40,000 Dawn of War  Soulstorm</td>\n",
       "      <td>play</td>\n",
       "      <td>5.5</td>\n",
       "      <td>14.109091</td>\n",
       "      <td>2</td>\n",
       "    </tr>\n",
       "    <tr>\n",
       "      <th>36417</th>\n",
       "      <td>36404933</td>\n",
       "      <td>Warhammer 40,000 Dawn of War  Soulstorm</td>\n",
       "      <td>play</td>\n",
       "      <td>5.8</td>\n",
       "      <td>14.109091</td>\n",
       "      <td>3</td>\n",
       "    </tr>\n",
       "    <tr>\n",
       "      <th>36418</th>\n",
       "      <td>87201181</td>\n",
       "      <td>Warhammer 40,000 Dawn of War  Soulstorm</td>\n",
       "      <td>play</td>\n",
       "      <td>24.0</td>\n",
       "      <td>14.109091</td>\n",
       "      <td>5</td>\n",
       "    </tr>\n",
       "    <tr>\n",
       "      <th>36419</th>\n",
       "      <td>34901647</td>\n",
       "      <td>Warhammer 40,000 Dawn of War  Soulstorm</td>\n",
       "      <td>play</td>\n",
       "      <td>15.4</td>\n",
       "      <td>14.109091</td>\n",
       "      <td>5</td>\n",
       "    </tr>\n",
       "  </tbody>\n",
       "</table>\n",
       "<p>36420 rows × 6 columns</p>\n",
       "</div>"
      ],
      "text/plain": [
       "         user_id                                    games status  hours_play  \\\n",
       "0      151603712               The Elder Scrolls V Skyrim   play       273.0   \n",
       "1       59945701               The Elder Scrolls V Skyrim   play        58.0   \n",
       "2       92107940               The Elder Scrolls V Skyrim   play       110.0   \n",
       "3      250006052               The Elder Scrolls V Skyrim   play       465.0   \n",
       "4       11373749               The Elder Scrolls V Skyrim   play       220.0   \n",
       "...          ...                                      ...    ...         ...   \n",
       "36415   51822361  Warhammer 40,000 Dawn of War  Soulstorm   play        23.0   \n",
       "36416   38317154  Warhammer 40,000 Dawn of War  Soulstorm   play         5.5   \n",
       "36417   36404933  Warhammer 40,000 Dawn of War  Soulstorm   play         5.8   \n",
       "36418   87201181  Warhammer 40,000 Dawn of War  Soulstorm   play        24.0   \n",
       "36419   34901647  Warhammer 40,000 Dawn of War  Soulstorm   play        15.4   \n",
       "\n",
       "       avg_hoursplay  rating  \n",
       "0         115.351792       5  \n",
       "1         115.351792       3  \n",
       "2         115.351792       5  \n",
       "3         115.351792       5  \n",
       "4         115.351792       5  \n",
       "...              ...     ...  \n",
       "36415      14.109091       5  \n",
       "36416      14.109091       2  \n",
       "36417      14.109091       3  \n",
       "36418      14.109091       5  \n",
       "36419      14.109091       5  \n",
       "\n",
       "[36420 rows x 6 columns]"
      ]
     },
     "execution_count": 25,
     "metadata": {},
     "output_type": "execute_result"
    }
   ],
   "source": [
    "condition = [\n",
    "    (final_rating['hours_play']>=0.8*final_rating['avg_hoursplay']),\n",
    "    (final_rating['hours_play']>=0.6*final_rating['avg_hoursplay']) &\n",
    "    (final_rating['hours_play']<0.8*final_rating['avg_hoursplay']),\n",
    "    \n",
    "    (final_rating['hours_play']>0.4*final_rating['avg_hoursplay']) &\n",
    "    (final_rating['hours_play']<0.6*final_rating['avg_hoursplay']),\n",
    "    \n",
    "    (final_rating['hours_play']>0.2*final_rating['avg_hoursplay']) &\n",
    "    (final_rating['hours_play']<0.4*final_rating['avg_hoursplay']),\n",
    "    \n",
    "    final_rating['hours_play']>=0\n",
    "]\n",
    "\n",
    "values = [5,4,3,2,1]\n",
    "final_rating['rating'] = np.select(condition,values)\n",
    "final_rating"
   ]
  },
  {
   "cell_type": "code",
   "execution_count": 26,
   "id": "b736245b",
   "metadata": {},
   "outputs": [
    {
     "data": {
      "text/html": [
       "<div>\n",
       "<style scoped>\n",
       "    .dataframe tbody tr th:only-of-type {\n",
       "        vertical-align: middle;\n",
       "    }\n",
       "\n",
       "    .dataframe tbody tr th {\n",
       "        vertical-align: top;\n",
       "    }\n",
       "\n",
       "    .dataframe thead th {\n",
       "        text-align: right;\n",
       "    }\n",
       "</style>\n",
       "<table border=\"1\" class=\"dataframe\">\n",
       "  <thead>\n",
       "    <tr style=\"text-align: right;\">\n",
       "      <th></th>\n",
       "      <th>user_id</th>\n",
       "      <th>games</th>\n",
       "      <th>rating</th>\n",
       "    </tr>\n",
       "  </thead>\n",
       "  <tbody>\n",
       "    <tr>\n",
       "      <th>0</th>\n",
       "      <td>151603712</td>\n",
       "      <td>The Elder Scrolls V Skyrim</td>\n",
       "      <td>5</td>\n",
       "    </tr>\n",
       "    <tr>\n",
       "      <th>1</th>\n",
       "      <td>59945701</td>\n",
       "      <td>The Elder Scrolls V Skyrim</td>\n",
       "      <td>3</td>\n",
       "    </tr>\n",
       "    <tr>\n",
       "      <th>2</th>\n",
       "      <td>92107940</td>\n",
       "      <td>The Elder Scrolls V Skyrim</td>\n",
       "      <td>5</td>\n",
       "    </tr>\n",
       "    <tr>\n",
       "      <th>3</th>\n",
       "      <td>250006052</td>\n",
       "      <td>The Elder Scrolls V Skyrim</td>\n",
       "      <td>5</td>\n",
       "    </tr>\n",
       "    <tr>\n",
       "      <th>4</th>\n",
       "      <td>11373749</td>\n",
       "      <td>The Elder Scrolls V Skyrim</td>\n",
       "      <td>5</td>\n",
       "    </tr>\n",
       "    <tr>\n",
       "      <th>...</th>\n",
       "      <td>...</td>\n",
       "      <td>...</td>\n",
       "      <td>...</td>\n",
       "    </tr>\n",
       "    <tr>\n",
       "      <th>36415</th>\n",
       "      <td>51822361</td>\n",
       "      <td>Warhammer 40,000 Dawn of War  Soulstorm</td>\n",
       "      <td>5</td>\n",
       "    </tr>\n",
       "    <tr>\n",
       "      <th>36416</th>\n",
       "      <td>38317154</td>\n",
       "      <td>Warhammer 40,000 Dawn of War  Soulstorm</td>\n",
       "      <td>2</td>\n",
       "    </tr>\n",
       "    <tr>\n",
       "      <th>36417</th>\n",
       "      <td>36404933</td>\n",
       "      <td>Warhammer 40,000 Dawn of War  Soulstorm</td>\n",
       "      <td>3</td>\n",
       "    </tr>\n",
       "    <tr>\n",
       "      <th>36418</th>\n",
       "      <td>87201181</td>\n",
       "      <td>Warhammer 40,000 Dawn of War  Soulstorm</td>\n",
       "      <td>5</td>\n",
       "    </tr>\n",
       "    <tr>\n",
       "      <th>36419</th>\n",
       "      <td>34901647</td>\n",
       "      <td>Warhammer 40,000 Dawn of War  Soulstorm</td>\n",
       "      <td>5</td>\n",
       "    </tr>\n",
       "  </tbody>\n",
       "</table>\n",
       "<p>36420 rows × 3 columns</p>\n",
       "</div>"
      ],
      "text/plain": [
       "         user_id                                    games  rating\n",
       "0      151603712               The Elder Scrolls V Skyrim       5\n",
       "1       59945701               The Elder Scrolls V Skyrim       3\n",
       "2       92107940               The Elder Scrolls V Skyrim       5\n",
       "3      250006052               The Elder Scrolls V Skyrim       5\n",
       "4       11373749               The Elder Scrolls V Skyrim       5\n",
       "...          ...                                      ...     ...\n",
       "36415   51822361  Warhammer 40,000 Dawn of War  Soulstorm       5\n",
       "36416   38317154  Warhammer 40,000 Dawn of War  Soulstorm       2\n",
       "36417   36404933  Warhammer 40,000 Dawn of War  Soulstorm       3\n",
       "36418   87201181  Warhammer 40,000 Dawn of War  Soulstorm       5\n",
       "36419   34901647  Warhammer 40,000 Dawn of War  Soulstorm       5\n",
       "\n",
       "[36420 rows x 3 columns]"
      ]
     },
     "execution_count": 26,
     "metadata": {},
     "output_type": "execute_result"
    }
   ],
   "source": [
    "final_rating = final_rating.drop(['status','hours_play','avg_hoursplay'],axis=1)\n",
    "final_rating"
   ]
  },
  {
   "cell_type": "code",
   "execution_count": 27,
   "id": "81c5c2d8",
   "metadata": {},
   "outputs": [],
   "source": [
    "from sklearn.metrics.pairwise import pairwise_distances\n",
    "from scipy.spatial.distance import cosine, correlation"
   ]
  },
  {
   "cell_type": "code",
   "execution_count": 28,
   "id": "86965fe9",
   "metadata": {},
   "outputs": [],
   "source": [
    "piv = final_rating.pivot_table(index=['user_id'],columns=['games'],values='rating')"
   ]
  },
  {
   "cell_type": "code",
   "execution_count": 29,
   "id": "71b0b134",
   "metadata": {},
   "outputs": [
    {
     "name": "stdout",
     "output_type": "stream",
     "text": [
      "(8309, 427)\n"
     ]
    },
    {
     "data": {
      "text/html": [
       "<div>\n",
       "<style scoped>\n",
       "    .dataframe tbody tr th:only-of-type {\n",
       "        vertical-align: middle;\n",
       "    }\n",
       "\n",
       "    .dataframe tbody tr th {\n",
       "        vertical-align: top;\n",
       "    }\n",
       "\n",
       "    .dataframe thead th {\n",
       "        text-align: right;\n",
       "    }\n",
       "</style>\n",
       "<table border=\"1\" class=\"dataframe\">\n",
       "  <thead>\n",
       "    <tr style=\"text-align: right;\">\n",
       "      <th>games</th>\n",
       "      <th>7 Days to Die</th>\n",
       "      <th>APB Reloaded</th>\n",
       "      <th>ARK Survival Evolved</th>\n",
       "      <th>Ace of Spades</th>\n",
       "      <th>AdVenture Capitalist</th>\n",
       "      <th>Aftermath</th>\n",
       "      <th>Age of Chivalry</th>\n",
       "      <th>Age of Empires II HD Edition</th>\n",
       "      <th>Age of Empires III Complete Collection</th>\n",
       "      <th>Age of Mythology Extended Edition</th>\n",
       "      <th>...</th>\n",
       "      <th>Warhammer 40,000 Dawn of War II - Chaos Rising</th>\n",
       "      <th>Warhammer 40,000 Space Marine</th>\n",
       "      <th>Wasteland 2</th>\n",
       "      <th>Watch_Dogs</th>\n",
       "      <th>Wolfenstein The New Order</th>\n",
       "      <th>Worms Reloaded</th>\n",
       "      <th>Worms Revolution</th>\n",
       "      <th>XCOM Enemy Unknown</th>\n",
       "      <th>Zombie Panic Source</th>\n",
       "      <th>theHunter</th>\n",
       "    </tr>\n",
       "    <tr>\n",
       "      <th>user_id</th>\n",
       "      <th></th>\n",
       "      <th></th>\n",
       "      <th></th>\n",
       "      <th></th>\n",
       "      <th></th>\n",
       "      <th></th>\n",
       "      <th></th>\n",
       "      <th></th>\n",
       "      <th></th>\n",
       "      <th></th>\n",
       "      <th></th>\n",
       "      <th></th>\n",
       "      <th></th>\n",
       "      <th></th>\n",
       "      <th></th>\n",
       "      <th></th>\n",
       "      <th></th>\n",
       "      <th></th>\n",
       "      <th></th>\n",
       "      <th></th>\n",
       "      <th></th>\n",
       "    </tr>\n",
       "  </thead>\n",
       "  <tbody>\n",
       "    <tr>\n",
       "      <th>100053304</th>\n",
       "      <td>NaN</td>\n",
       "      <td>NaN</td>\n",
       "      <td>NaN</td>\n",
       "      <td>NaN</td>\n",
       "      <td>NaN</td>\n",
       "      <td>NaN</td>\n",
       "      <td>NaN</td>\n",
       "      <td>NaN</td>\n",
       "      <td>NaN</td>\n",
       "      <td>NaN</td>\n",
       "      <td>...</td>\n",
       "      <td>NaN</td>\n",
       "      <td>NaN</td>\n",
       "      <td>NaN</td>\n",
       "      <td>NaN</td>\n",
       "      <td>NaN</td>\n",
       "      <td>NaN</td>\n",
       "      <td>NaN</td>\n",
       "      <td>NaN</td>\n",
       "      <td>NaN</td>\n",
       "      <td>NaN</td>\n",
       "    </tr>\n",
       "    <tr>\n",
       "      <th>100057229</th>\n",
       "      <td>NaN</td>\n",
       "      <td>NaN</td>\n",
       "      <td>NaN</td>\n",
       "      <td>NaN</td>\n",
       "      <td>NaN</td>\n",
       "      <td>NaN</td>\n",
       "      <td>NaN</td>\n",
       "      <td>NaN</td>\n",
       "      <td>NaN</td>\n",
       "      <td>NaN</td>\n",
       "      <td>...</td>\n",
       "      <td>NaN</td>\n",
       "      <td>NaN</td>\n",
       "      <td>NaN</td>\n",
       "      <td>NaN</td>\n",
       "      <td>NaN</td>\n",
       "      <td>NaN</td>\n",
       "      <td>NaN</td>\n",
       "      <td>NaN</td>\n",
       "      <td>NaN</td>\n",
       "      <td>NaN</td>\n",
       "    </tr>\n",
       "    <tr>\n",
       "      <th>100070732</th>\n",
       "      <td>NaN</td>\n",
       "      <td>NaN</td>\n",
       "      <td>NaN</td>\n",
       "      <td>NaN</td>\n",
       "      <td>NaN</td>\n",
       "      <td>NaN</td>\n",
       "      <td>NaN</td>\n",
       "      <td>NaN</td>\n",
       "      <td>NaN</td>\n",
       "      <td>NaN</td>\n",
       "      <td>...</td>\n",
       "      <td>NaN</td>\n",
       "      <td>NaN</td>\n",
       "      <td>NaN</td>\n",
       "      <td>NaN</td>\n",
       "      <td>NaN</td>\n",
       "      <td>NaN</td>\n",
       "      <td>NaN</td>\n",
       "      <td>NaN</td>\n",
       "      <td>NaN</td>\n",
       "      <td>NaN</td>\n",
       "    </tr>\n",
       "    <tr>\n",
       "      <th>100096071</th>\n",
       "      <td>NaN</td>\n",
       "      <td>NaN</td>\n",
       "      <td>NaN</td>\n",
       "      <td>NaN</td>\n",
       "      <td>NaN</td>\n",
       "      <td>NaN</td>\n",
       "      <td>NaN</td>\n",
       "      <td>NaN</td>\n",
       "      <td>NaN</td>\n",
       "      <td>NaN</td>\n",
       "      <td>...</td>\n",
       "      <td>NaN</td>\n",
       "      <td>NaN</td>\n",
       "      <td>NaN</td>\n",
       "      <td>NaN</td>\n",
       "      <td>NaN</td>\n",
       "      <td>NaN</td>\n",
       "      <td>NaN</td>\n",
       "      <td>NaN</td>\n",
       "      <td>NaN</td>\n",
       "      <td>NaN</td>\n",
       "    </tr>\n",
       "    <tr>\n",
       "      <th>100168166</th>\n",
       "      <td>NaN</td>\n",
       "      <td>NaN</td>\n",
       "      <td>NaN</td>\n",
       "      <td>NaN</td>\n",
       "      <td>NaN</td>\n",
       "      <td>NaN</td>\n",
       "      <td>NaN</td>\n",
       "      <td>NaN</td>\n",
       "      <td>NaN</td>\n",
       "      <td>NaN</td>\n",
       "      <td>...</td>\n",
       "      <td>NaN</td>\n",
       "      <td>NaN</td>\n",
       "      <td>NaN</td>\n",
       "      <td>NaN</td>\n",
       "      <td>NaN</td>\n",
       "      <td>NaN</td>\n",
       "      <td>NaN</td>\n",
       "      <td>NaN</td>\n",
       "      <td>NaN</td>\n",
       "      <td>NaN</td>\n",
       "    </tr>\n",
       "  </tbody>\n",
       "</table>\n",
       "<p>5 rows × 427 columns</p>\n",
       "</div>"
      ],
      "text/plain": [
       "games      7 Days to Die  APB Reloaded  ARK Survival Evolved  Ace of Spades  \\\n",
       "user_id                                                                       \n",
       "100053304            NaN           NaN                   NaN            NaN   \n",
       "100057229            NaN           NaN                   NaN            NaN   \n",
       "100070732            NaN           NaN                   NaN            NaN   \n",
       "100096071            NaN           NaN                   NaN            NaN   \n",
       "100168166            NaN           NaN                   NaN            NaN   \n",
       "\n",
       "games      AdVenture Capitalist  Aftermath  Age of Chivalry  \\\n",
       "user_id                                                       \n",
       "100053304                   NaN        NaN              NaN   \n",
       "100057229                   NaN        NaN              NaN   \n",
       "100070732                   NaN        NaN              NaN   \n",
       "100096071                   NaN        NaN              NaN   \n",
       "100168166                   NaN        NaN              NaN   \n",
       "\n",
       "games      Age of Empires II HD Edition  \\\n",
       "user_id                                   \n",
       "100053304                           NaN   \n",
       "100057229                           NaN   \n",
       "100070732                           NaN   \n",
       "100096071                           NaN   \n",
       "100168166                           NaN   \n",
       "\n",
       "games      Age of Empires III Complete Collection  \\\n",
       "user_id                                             \n",
       "100053304                                     NaN   \n",
       "100057229                                     NaN   \n",
       "100070732                                     NaN   \n",
       "100096071                                     NaN   \n",
       "100168166                                     NaN   \n",
       "\n",
       "games      Age of Mythology Extended Edition  ...  \\\n",
       "user_id                                       ...   \n",
       "100053304                                NaN  ...   \n",
       "100057229                                NaN  ...   \n",
       "100070732                                NaN  ...   \n",
       "100096071                                NaN  ...   \n",
       "100168166                                NaN  ...   \n",
       "\n",
       "games      Warhammer 40,000 Dawn of War II - Chaos Rising  \\\n",
       "user_id                                                     \n",
       "100053304                                             NaN   \n",
       "100057229                                             NaN   \n",
       "100070732                                             NaN   \n",
       "100096071                                             NaN   \n",
       "100168166                                             NaN   \n",
       "\n",
       "games      Warhammer 40,000 Space Marine  Wasteland 2  Watch_Dogs  \\\n",
       "user_id                                                             \n",
       "100053304                            NaN          NaN         NaN   \n",
       "100057229                            NaN          NaN         NaN   \n",
       "100070732                            NaN          NaN         NaN   \n",
       "100096071                            NaN          NaN         NaN   \n",
       "100168166                            NaN          NaN         NaN   \n",
       "\n",
       "games      Wolfenstein The New Order  Worms Reloaded  Worms Revolution  \\\n",
       "user_id                                                                  \n",
       "100053304                        NaN             NaN               NaN   \n",
       "100057229                        NaN             NaN               NaN   \n",
       "100070732                        NaN             NaN               NaN   \n",
       "100096071                        NaN             NaN               NaN   \n",
       "100168166                        NaN             NaN               NaN   \n",
       "\n",
       "games      XCOM Enemy Unknown  Zombie Panic Source  theHunter  \n",
       "user_id                                                        \n",
       "100053304                 NaN                  NaN        NaN  \n",
       "100057229                 NaN                  NaN        NaN  \n",
       "100070732                 NaN                  NaN        NaN  \n",
       "100096071                 NaN                  NaN        NaN  \n",
       "100168166                 NaN                  NaN        NaN  \n",
       "\n",
       "[5 rows x 427 columns]"
      ]
     },
     "execution_count": 29,
     "metadata": {},
     "output_type": "execute_result"
    }
   ],
   "source": [
    "print(piv.shape)\n",
    "piv.head()"
   ]
  },
  {
   "cell_type": "code",
   "execution_count": 30,
   "id": "e34bf99e",
   "metadata": {},
   "outputs": [],
   "source": [
    "piv_norm = piv.apply(lambda x: (x-np.mean(x))/(np.max(x)-np.min(x)),axis=1)\n",
    "\n",
    "piv_norm.fillna(0, inplace=True)\n",
    "piv_norm = piv_norm.T\n",
    "piv_norm = piv_norm.loc[:, (piv_norm !=0).any(axis=0)]"
   ]
  },
  {
   "cell_type": "code",
   "execution_count": 31,
   "id": "f97b2fd1",
   "metadata": {},
   "outputs": [],
   "source": [
    "import scipy as sp\n",
    "from sklearn.metrics.pairwise import cosine_similarity\n",
    "import operator"
   ]
  },
  {
   "cell_type": "code",
   "execution_count": 32,
   "id": "f686f928",
   "metadata": {},
   "outputs": [],
   "source": [
    "piv_sparse = sp.sparse.csr_matrix(piv_norm.values)"
   ]
  },
  {
   "cell_type": "code",
   "execution_count": 33,
   "id": "08999199",
   "metadata": {},
   "outputs": [],
   "source": [
    "item_similarity = cosine_similarity(piv_sparse)\n",
    "user_similarity = cosine_similarity(piv_sparse.T)"
   ]
  },
  {
   "cell_type": "code",
   "execution_count": 34,
   "id": "19ce44c7",
   "metadata": {},
   "outputs": [],
   "source": [
    "item_sim_df = pd.DataFrame(item_similarity, index=piv_norm.index, columns=piv_norm.index)\n",
    "user_sim_df = pd.DataFrame(user_similarity, index=piv_norm.columns, columns=piv_norm.columns)"
   ]
  },
  {
   "cell_type": "code",
   "execution_count": 35,
   "id": "38d15ca2",
   "metadata": {},
   "outputs": [],
   "source": [
    "def top_game(game):\n",
    "    count = 1\n",
    "    print('Similar game t0 {} include: \\n'.format(game))\n",
    "    for item in item_sim_df.sort_values(by=game, ascending=False).index[1:11]:\n",
    "        print('No, {}: {}'.format(count, item))\n",
    "        count +=1"
   ]
  },
  {
   "cell_type": "code",
   "execution_count": 36,
   "id": "5ab70317",
   "metadata": {},
   "outputs": [
    {
     "name": "stdout",
     "output_type": "stream",
     "text": [
      "Similar game t0 Aftermath include: \n",
      "\n",
      "No, 1: Alice Madness Returns\n",
      "No, 2: Shadow Warrior\n",
      "No, 3: Brtal Legend\n",
      "No, 4: Resident Evil 5 / Biohazard 5\n",
      "No, 5: Infestation Survivor Stories\n",
      "No, 6: Call of Juarez Gunslinger\n",
      "No, 7: The Walking Dead Season Two\n",
      "No, 8: Counter-Strike Nexon Zombies\n",
      "No, 9: Star Conflict\n",
      "No, 10: L.A. Noire\n"
     ]
    }
   ],
   "source": [
    "top_game('Aftermath')"
   ]
  },
  {
   "cell_type": "code",
   "execution_count": 37,
   "id": "c7f497c5",
   "metadata": {},
   "outputs": [
    {
     "data": {
      "text/plain": [
       "Index(['100057229', '100096071', '100311267', '100322840', '100351493',\n",
       "       '100359523', '100431715', '100444456', '100519466', '100630947',\n",
       "       ...\n",
       "       '994489', '9946133', '99484728', '99640715', '99704390', '99711581',\n",
       "       '99713453', '99723205', '99766416', '99802512'],\n",
       "      dtype='object', name='user_id', length=3056)"
      ]
     },
     "execution_count": 37,
     "metadata": {},
     "output_type": "execute_result"
    }
   ],
   "source": [
    "piv_norm.columns"
   ]
  },
  {
   "cell_type": "code",
   "execution_count": 38,
   "id": "cf3a06c0",
   "metadata": {},
   "outputs": [],
   "source": [
    "def top_user(user):\n",
    "    if user not in piv_norm.columns:\n",
    "        return (f'No data availabel on user {user}')\n",
    "    print('Most similar user:\\n')\n",
    "    \n",
    "    sim_values = user_sim_df.sort_values(by=user, ascending=False).loc[:,user].tolist()[1:11]\n",
    "    \n",
    "    sim_users = user_sim_df.sort_values(by=user, ascending=False).index[1:11]\n",
    "    \n",
    "    zipped = zip(sim_users, sim_values,)\n",
    "    for user, sim in zipped:\n",
    "        print(f'User {user}, Similarity value: {sim}')"
   ]
  },
  {
   "cell_type": "code",
   "execution_count": 39,
   "id": "de35d00f",
   "metadata": {},
   "outputs": [
    {
     "name": "stdout",
     "output_type": "stream",
     "text": [
      "Most similar user:\n",
      "\n",
      "User 40289887, Similarity value: 0.7302967433402214\n",
      "User 185494712, Similarity value: 0.7071067811865477\n",
      "User 16710264, Similarity value: 0.7071067811865477\n",
      "User 20566124, Similarity value: 0.6666666666666669\n",
      "User 49769103, Similarity value: 0.6666666666666667\n",
      "User 15702351, Similarity value: 0.647150228929434\n",
      "User 161139120, Similarity value: 0.5873012321686746\n",
      "User 202057920, Similarity value: 0.5773502691896258\n",
      "User 57271785, Similarity value: 0.5773502691896258\n",
      "User 33993318, Similarity value: 0.5773502691896258\n"
     ]
    }
   ],
   "source": [
    "top_user('99484728')"
   ]
  },
  {
   "cell_type": "code",
   "execution_count": 40,
   "id": "684749dd",
   "metadata": {},
   "outputs": [],
   "source": [
    "def similar_user_recs(user):\n",
    "    if user not in piv_norm.columns:\n",
    "        return (f'No data availabel on user {user}')\n",
    "    \n",
    "    sim_users = user_sim_df.sort_values(by=user, ascending=False).index[1:11]\n",
    "    \n",
    "    best = []\n",
    "    \n",
    "    most_common = {}\n",
    "    \n",
    "    for i in sim_users:\n",
    "        max_score = piv_norm.loc[:,i].max()\n",
    "        best.append(piv_norm[piv_norm.loc[:,i]==max_score].index.tolist())\n",
    "        \n",
    "    for i in range(len(best)):\n",
    "        for j in best[i]:\n",
    "            if j in most_common:\n",
    "                most_common[j] +=1\n",
    "            else:\n",
    "                most_common[j] = 1\n",
    "    \n",
    "    sorted_list = sorted(most_common.items(),key=operator.itemgetter(1),reverse=True)\n",
    "    \n",
    "    return sorted_list[:5]\n",
    "    "
   ]
  },
  {
   "cell_type": "code",
   "execution_count": 41,
   "id": "202f496e",
   "metadata": {},
   "outputs": [
    {
     "data": {
      "text/plain": [
       "[('Robocraft', 6),\n",
       " ('BLOCKADE 3D', 2),\n",
       " (\"Garry's Mod\", 2),\n",
       " ('ARK Survival Evolved', 1),\n",
       " ('Dino D-Day', 1)]"
      ]
     },
     "execution_count": 41,
     "metadata": {},
     "output_type": "execute_result"
    }
   ],
   "source": [
    "similar_user_recs('100519466')"
   ]
  },
  {
   "cell_type": "code",
   "execution_count": 42,
   "id": "ad077c16",
   "metadata": {},
   "outputs": [
    {
     "data": {
      "text/plain": [
       "NearestNeighbors(algorithm='brute', metric='cosine', n_jobs=-1, n_neighbors=20)"
      ]
     },
     "execution_count": 42,
     "metadata": {},
     "output_type": "execute_result"
    }
   ],
   "source": [
    "from sklearn.neighbors import NearestNeighbors\n",
    "knnmodel = NearestNeighbors(metric='cosine',algorithm='brute',n_neighbors=20, n_jobs=-1)\n",
    "knnmodel.fit(piv_norm)"
   ]
  },
  {
   "cell_type": "code",
   "execution_count": 43,
   "id": "28a6ff8a",
   "metadata": {},
   "outputs": [
    {
     "name": "stdout",
     "output_type": "stream",
     "text": [
      "Choosen game is:  Star Wars Jedi Knight Jedi Academy\n",
      "Recommendations for Star Wars Jedi Knight Jedi Academy\n",
      "\n",
      "1, Brtal Legend, with distance 0.8633879411444696\n",
      "2, Insurgency Modern Infantry Combat, with distance 0.8684240227998654\n",
      "3, Red Faction Guerrilla Steam Edition, with distance 0.8930082068749376\n",
      "4, Legend of Grimrock, with distance 0.9030493945328347\n",
      "5, Super Meat Boy, with distance 0.9036066675050332\n"
     ]
    }
   ],
   "source": [
    "query_index = np.random.choice(piv_norm.shape[0])\n",
    "\n",
    "print('Choosen game is: ',piv_norm.index[query_index])\n",
    "\n",
    "distances, indices = knnmodel.kneighbors(piv_norm.iloc[query_index,:].values.reshape(1,-1),n_neighbors=6)\n",
    "\n",
    "for i in range(0, len(distances.flatten())):\n",
    "    if i ==0:\n",
    "        print(f'Recommendations for {piv_norm.index[query_index]}\\n')\n",
    "        \n",
    "    else:\n",
    "        print(f'{i}, {piv_norm.index[indices.flatten()[i]]}, with distance {distances.flatten()[i]}')"
   ]
  },
  {
   "cell_type": "code",
   "execution_count": null,
   "id": "9dfc5a5a",
   "metadata": {},
   "outputs": [],
   "source": []
  }
 ],
 "metadata": {
  "kernelspec": {
   "display_name": "Python 3 (ipykernel)",
   "language": "python",
   "name": "python3"
  },
  "language_info": {
   "codemirror_mode": {
    "name": "ipython",
    "version": 3
   },
   "file_extension": ".py",
   "mimetype": "text/x-python",
   "name": "python",
   "nbconvert_exporter": "python",
   "pygments_lexer": "ipython3",
   "version": "3.9.7"
  }
 },
 "nbformat": 4,
 "nbformat_minor": 5
}
